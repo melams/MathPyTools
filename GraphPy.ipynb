{
 "cells": [
  {
   "cell_type": "markdown",
   "metadata": {},
   "source": [
    "# Additions for MatPlotLib"
   ]
  },
  {
   "cell_type": "markdown",
   "metadata": {},
   "source": [
    "## Calculate Angle between 2 2D vectors and draw Arc symbol Decorator for angles"
   ]
  },
  {
   "cell_type": "code",
   "execution_count": 2,
   "metadata": {},
   "outputs": [],
   "source": [
    "import numpy as np\n",
    "import matplotlib.pyplot as plt\n",
    "from numpy import linalg as LA\n",
    "from matplotlib import patches"
   ]
  },
  {
   "cell_type": "code",
   "execution_count": 156,
   "metadata": {},
   "outputs": [],
   "source": [
    "class DotAnglePatch:\n",
    "    def __init__(self, vec_a, vec_b):\n",
    "        '''Uses the dot product to calculate the angle between two vectors in 2D space and draw the arc between\n",
    "        those vectors in matplotlib'''\n",
    "        self.vec_a = vec_a\n",
    "        self.vec_b = vec_b\n",
    "        self.theta = ''\n",
    "        \n",
    "    def get_circle_positions(self):\n",
    "        x_axis = [10,0]        \n",
    "        self.theta_vec_a = np.rad2deg(np.arccos(np.dot(self.vec_a, x_axis) / ((LA.norm(self.vec_a))*LA.norm(x_axis))))\n",
    "        self.theta_vec_b = np.rad2deg(np.arccos(np.dot(self.vec_b, x_axis) / ((LA.norm(self.vec_b))*LA.norm(x_axis))))\n",
    "        \n",
    "        if self.vec_a[1] < 0:\n",
    "            circle_ang_a = 360-self.theta_vec_a\n",
    "        else:\n",
    "            circle_ang_a = self.theta_vec_a\n",
    "            \n",
    "        if self.vec_b[1] < 0:\n",
    "            circle_ang_b = 360-self.theta_vec_b\n",
    "        else:\n",
    "            circle_ang_b= self.theta_vec_b\n",
    "        \n",
    "        self.circle_angs = sorted([circle_ang_a, circle_ang_b], key=float, reverse=True)\n",
    "        \n",
    "        \n",
    "    def get_theta(self):\n",
    "        self.theta = np.rad2deg(np.arccos(np.dot(self.vec_a, self.vec_b) / ((LA.norm(self.vec_a))*LA.norm(self.vec_b))))\n",
    "        \n",
    "        \n",
    "    def draw_arc(self, arc_radius=10):\n",
    "        if (self.circle_angs[0] - self.circle_angs[1]) > 180:\n",
    "            self.arc_start = self.circle_angs[0]\n",
    "            self.arc_end = self.circle_angs[1]\n",
    "        else:\n",
    "            self.arc_start = self.circle_angs[1]\n",
    "            self.arc_end = self.circle_angs[0]\n",
    "        \n",
    "        fig = plt.figure(num=None, figsize=(10,10))\n",
    "        \n",
    "        ax = fig.add_subplot(111, aspect='auto')\n",
    "\n",
    "        e1 = patches.Arc((0, 0), arc_radius*2, arc_radius*2, angle=0, theta1=self.arc_start, theta2=self.arc_end, linewidth=2, \n",
    "                         fill=False, zorder=2, label=str(test.theta), color='blue')\n",
    "\n",
    "        ax.add_patch(e1)\n",
    "        \n",
    "        theta_str = self.arc_end - ((self.arc_end - self.arc_start)/2)\n",
    "        x_coord = arc_radius*(np.cos(np.deg2rad(theta_str)))\n",
    "        y_coord = arc_radius*(np.sin(np.deg2rad(theta_str)))\n",
    "        \n",
    "        print('theta_ang is ', theta_str)\n",
    "        print('x_coord is ', x_coord)\n",
    "        print('y_coord is ', y_coord)\n",
    "        \n",
    "        ax.text(x_coord, y_coord, str(\"{0:.2f}\".format(round(self.theta,2))) + '$^\\circ$')\n",
    "            "
   ]
  },
  {
   "cell_type": "code",
   "execution_count": 164,
   "metadata": {},
   "outputs": [
    {
     "name": "stdout",
     "output_type": "stream",
     "text": [
      "theta_ang is  272.3818208453631\n",
      "x_coord is  0.4155864383687477\n",
      "y_coord is  -9.991360663705619\n"
     ]
    },
    {
     "data": {
      "image/png": "[encoded data removed]",
      "text/plain": [
       "<Figure size 720x720 with 1 Axes>"
      ]
     },
     "metadata": {
      "needs_background": "light"
     },
     "output_type": "display_data"
    }
   ],
   "source": [
    "#Example of using DotAnglePatch\n",
    "\n",
    "vec_2d_x = np.array([-20, -50])\n",
    "vec_2d_y = np.array([10, -20])\n",
    "\n",
    "test = DotAnglePatch(vec_2d_x, vec_2d_y)\n",
    "\n",
    "test.get_circle_positions()\n",
    "test.get_theta()\n",
    "test.draw_arc(arc_radius=10)\n",
    "\n",
    "# plot both vectors as lines\n",
    "plt.plot([0, vec_2d_x[0]], [0, vec_2d_x[1]], label='Vec X')\n",
    "plt.plot([0, vec_2d_y[0]], [0, vec_2d_y[1]], label='Vec Y')\n",
    "\n",
    "#plt.title('Two vectors with a dot product of: '+ str(np.dot(vec_2d_x, vec_2d_y)))\n",
    "plt.axis('equal')\n",
    "plt.plot([-50, 50],[0, 0],'k--')\n",
    "plt.plot([0, 0],[-50, 50],'k--')\n",
    "plt.grid()\n",
    "\n",
    "plt.legend(loc=\"upper left\")\n",
    "# plt_diff = plt.legend((vx, vy, vdiff), ('Vec X', 'Vec Y', 'Vec X - Vec Y'), loc=\"upper left\")\n",
    "plt.show()"
   ]
  },
  {
   "cell_type": "code",
   "execution_count": null,
   "metadata": {},
   "outputs": [],
   "source": []
  }
 ],
 "metadata": {
  "kernelspec": {
   "display_name": "Python 3",
   "language": "python",
   "name": "python3"
  },
  "language_info": {
   "codemirror_mode": {
    "name": "ipython",
    "version": 3
   },
   "file_extension": ".py",
   "mimetype": "text/x-python",
   "name": "python",
   "nbconvert_exporter": "python",
   "pygments_lexer": "ipython3",
   "version": "3.7.1"
  }
 },
 "nbformat": 4,
 "nbformat_minor": 2
}
